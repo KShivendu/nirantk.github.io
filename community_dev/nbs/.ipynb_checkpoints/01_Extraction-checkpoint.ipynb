{
 "cells": [
  {
   "cell_type": "code",
   "execution_count": null,
   "metadata": {},
   "outputs": [],
   "source": [
    "from pathlib import Path\n",
    "text = Path(\"../_chat.txt\").open(\"r\").read()"
   ]
  },
  {
   "cell_type": "code",
   "execution_count": null,
   "metadata": {},
   "outputs": [],
   "source": [
    "import re\n",
    "import pandas as pd\n",
    "from datetime import datetime \n",
    "from typing import List, Tuple"
   ]
  },
  {
   "cell_type": "code",
   "execution_count": null,
   "metadata": {},
   "outputs": [],
   "source": [
    "def extract_messages(input_text: str) -> List[Tuple[str, str, str]]:\n",
    "    pattern = re.compile(r'\\[(?P<date>\\d{1,2}\\/\\d{1,2}\\/\\d{2,4}), (?P<time>\\d{1,2}:\\d{2}:\\d{2})\\] (?P<sender>[^:]+): (?P<message>.+)')\n",
    "    join_pattern = re.compile(r'joined using this group\\'s invite link')\n",
    "\n",
    "    messages = []\n",
    "    for line in input_text.split('\\n'):\n",
    "        match = pattern.match(line)\n",
    "        if match and not join_pattern.search(line):\n",
    "            date, time, sender, message = match.groups()\n",
    "            datetime_str = f\"{date} {time}\"\n",
    "            dt = datetime.strptime(datetime_str, \"%m/%d/%y %H:%M:%S\")\n",
    "            messages.append((sender, dt, message))\n",
    "\n",
    "    return messages\n",
    "\n",
    "messages = extract_messages(text)\n",
    "df = pd.DataFrame(messages, columns=['Sender', 'Datetime', 'Message'])\n",
    "\n",
    "print(df)"
   ]
  },
  {
   "cell_type": "code",
   "execution_count": null,
   "metadata": {},
   "outputs": [],
   "source": [
    "def remove_pii(text):\n",
    "    # Remove phone numbers\n",
    "    phone_pattern = re.compile(r'\\+?(\\d[\\d-]{7,}\\d)')\n",
    "    no_phones = phone_pattern.sub('[PHONE REMOVED]', text)\n",
    "\n",
    "    # Remove email addresses\n",
    "    email_pattern = re.compile(r'\\b[A-Za-z0-9._%+-]+@[A-Za-z0-9.-]+\\.[A-Z|a-z]{2,}\\b')\n",
    "    no_emails = email_pattern.sub('[EMAIL REMOVED]', no_phones)\n",
    "\n",
    "    return no_emails\n",
    "\n",
    "\n",
    "def cleanup(df):\n",
    "    # Drop the Sender column\n",
    "    if \"Sender\" in df.columns:\n",
    "        df = df.drop(columns=['Sender'])\n",
    "    # Drop the rows with no message\n",
    "    df = df.dropna()\n",
    "\n",
    "    df = df[~df['Message'].str.contains('deleted this message')]\n",
    "    df = df[~df['Message'].str.contains('message was deleted')]\n",
    "    df = df[~df['Message'].str.contains('‎‪')]\n",
    "    df = df[~df['Message'].str.contains('changed the subject to')]\n",
    "    df = df[~df['Message'].str.contains('‎')]\n",
    "    df = df[~df['Message'].str.contains('You added')]\n",
    "    df = df[~df['Message'].str.contains('changed the group description')]\n",
    "    df = df[~df['Message'].str.contains('POLL:')]\n",
    "    df = df[~df['Message'].str.contains('reset this group\\'s invite link')]\n",
    "    df = df[~df['Message'].str.contains('changed this group\\'s icon')]\n",
    "    df = df[~df['Message'].str.contains('changed the subject from')]\n",
    "    df = df[~df['Message'].str.contains('changed this group\\'s settings')]\n",
    "    df[\"Message\"] = df[\"Message\"].apply(remove_pii)\n",
    "    return df\n",
    "\n",
    "print(f\"Before cleanup: {len(df)}\")\n",
    "df = cleanup(df)\n",
    "print(f\"After cleanup: {len(df)}\")"
   ]
  },
  {
   "cell_type": "code",
   "execution_count": null,
   "metadata": {},
   "outputs": [],
   "source": [
    "# Today's date\n",
    "today = datetime.today().strftime('%Y%m%d')\n",
    "df.to_csv(f'../{today}_Messages.csv', index=False)"
   ]
  }
 ],
 "metadata": {
  "kernelspec": {
   "display_name": "Python 3 (ipykernel)",
   "language": "python",
   "name": "python3"
  },
  "language_info": {
   "codemirror_mode": {
    "name": "ipython",
    "version": 3
   },
   "file_extension": ".py",
   "mimetype": "text/x-python",
   "name": "python",
   "nbconvert_exporter": "python",
   "pygments_lexer": "ipython3",
   "version": "3.9.16"
  }
 },
 "nbformat": 4,
 "nbformat_minor": 2
}
